{
 "cells": [
  {
   "cell_type": "markdown",
   "id": "c03a1233",
   "metadata": {},
   "source": [
    "# Код для создания набора данных"
   ]
  },
  {
   "cell_type": "code",
   "execution_count": null,
   "id": "10cd6544",
   "metadata": {},
   "outputs": [],
   "source": [
    "import json\n",
    "import pandas as pd\n",
    "import numpy as np\n",
    "from PIL import Image, ImageDraw"
   ]
  },
  {
   "cell_type": "code",
   "execution_count": null,
   "id": "e8daec9a",
   "metadata": {},
   "outputs": [],
   "source": [
    "# Преобразование файла JSON в датасет с RGB\n",
    "with open('_annotations.coco.json', 'r', encoding='utf-8') as file:\n",
    "    data = json.load(file)\n",
    "\n",
    "image_data = data['images'][0]\n",
    "image_id = image_data['id']\n",
    "image_height = image_data['height']\n",
    "image_width = image_data['width']\n",
    "file_name = image_data['file_name']\n",
    "image = Image.open(file_name).convert('RGB') \n",
    "image_array = np.array(image) \n",
    "pixel_classes = np.zeros((image_height, image_width), dtype=np.uint8)\n",
    "for ann in data['annotations']:\n",
    "    if ann['image_id'] == image_id:\n",
    "        segmentation = ann['segmentation']\n",
    "        if segmentation:\n",
    "            mask = Image.new('L', (image_width, image_height), 0)\n",
    "            draw = ImageDraw.Draw(mask)\n",
    "            for seg in segmentation:\n",
    "                draw.polygon(seg, outline=1, fill=1)\n",
    "            pixel_classes += np.array(mask)\n",
    "\n",
    "pixel_classes = np.clip(pixel_classes, 0, 1)\n",
    "rows = []\n",
    "for y in range(image_height):\n",
    "    for x in range(image_width):\n",
    "        rows.append({\n",
    "            \"x\": x,\n",
    "            \"y\": y,\n",
    "            \"R\": image_array[y, x, 0],\n",
    "            \"G\": image_array[y, x, 1],\n",
    "            \"B\": image_array[y, x, 2],\n",
    "            \"class\": pixel_classes[y, x]\n",
    "        })\n",
    "\n",
    "df = pd.DataFrame(rows)\n",
    "df['brightness'] = 0.299 * df['R'] + 0.587 * df['G'] + 0.114 * df['B']\n",
    "columns = [col for col in df.columns if col != 'class'] + ['class']\n",
    "df = df[columns]\n",
    "df.to_csv('road_pixels_with_brightness.csv', index=False)"
   ]
  }
 ],
 "metadata": {
  "kernelspec": {
   "display_name": "Python 3 (ipykernel)",
   "language": "python",
   "name": "python3"
  },
  "language_info": {
   "codemirror_mode": {
    "name": "ipython",
    "version": 3
   },
   "file_extension": ".py",
   "mimetype": "text/x-python",
   "name": "python",
   "nbconvert_exporter": "python",
   "pygments_lexer": "ipython3",
   "version": "3.9.13"
  }
 },
 "nbformat": 4,
 "nbformat_minor": 5
}
