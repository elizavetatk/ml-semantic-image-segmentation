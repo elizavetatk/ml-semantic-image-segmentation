{
 "cells": [
  {
   "cell_type": "markdown",
   "id": "16fee065",
   "metadata": {},
   "source": [
    "# Код для реализации основной части"
   ]
  },
  {
   "cell_type": "code",
   "execution_count": null,
   "id": "9f529ddd",
   "metadata": {},
   "outputs": [],
   "source": [
    "import pandas as pd\n",
    "import matplotlib.pyplot as plt\n",
    "import seaborn as sns\n",
    "from sklearn.model_selection import train_test_split\n",
    "from sklearn.model_selection import GridSearchCV, RandomizedSearchCV\n",
    "from sklearn.preprocessing import StandardScaler\n",
    "from sklearn.linear_model import LogisticRegression\n",
    "from sklearn.svm import SVC\n",
    "from sklearn.neighbors import KNeighborsClassifier\n",
    "from scipy.stats import uniform\n",
    "from sklearn.metrics import accuracy_score, roc_auc_score\n",
    "from sklearn.metrics import confusion_matrix, classification_report\n",
    "import time\n",
    "import shap"
   ]
  },
  {
   "cell_type": "markdown",
   "id": "5f9c9b2f",
   "metadata": {},
   "source": [
    "### Подготовка данных"
   ]
  },
  {
   "cell_type": "code",
   "execution_count": null,
   "id": "d522a57c",
   "metadata": {},
   "outputs": [],
   "source": [
    "df = pd.read_csv('road_pixels_with_brightness.csv')"
   ]
  },
  {
   "cell_type": "code",
   "execution_count": null,
   "id": "df29383a",
   "metadata": {},
   "outputs": [],
   "source": [
    "# Отсечение частей изображения\n",
    "df = df[~(\n",
    "    ((df['y'] >= 800) & (df['x'] >= 0) & (df['x'] <= 500)) |\n",
    "    ((df['y'] >= 800) & (df['x'] >= 800) & (df['x'] <= 1500)) |\n",
    "    ((df['y'] >= 1000) & (df['x'] >= 1500) & (df['x'] <= 1700)) |\n",
    "    ((df['y'] >= 600) & (df['x'] >= 1000) & (df['x'] <= 1300)) |\n",
    "    ((df['y'] >= 0) & (df['y'] <= 400) & (df['x'] >= 0) & (df['x'] <= 600)) |\n",
    "    ((df['y'] >= 0) & (df['y'] <= 600) & (df['x'] >= 0) & (df['x'] <= 200)) |\n",
    "    ((df['y'] >= 0) & (df['y'] <= 400) & (df['x'] >= 1500)) |\n",
    "    ((df['y'] >= 0) & (df['y'] <= 600) & (df['x'] >= 1500)) |\n",
    "    ((df['y'] >= 0) & (df['y'] <= 800) & (df['x'] >= 1800)) |\n",
    "    ((df['y'] >= 0) & (df['y'] <= 200) & (df['x'] >= 0))\n",
    ")]"
   ]
  },
  {
   "cell_type": "code",
   "execution_count": null,
   "id": "fda3ab19",
   "metadata": {},
   "outputs": [],
   "source": [
    "# Проверка распределения классов\n",
    "class_counts = df['class'].value_counts()\n",
    "print(class_counts)\n",
    "class_ratios = class_counts / len(df)\n",
    "print(class_ratios)"
   ]
  },
  {
   "cell_type": "code",
   "execution_count": null,
   "id": "00f92bbb",
   "metadata": {},
   "outputs": [],
   "source": [
    "# Визуализация классов\n",
    "plt.figure(figsize=(10, 6))\n",
    "plt.scatter(df[df['class'] == 0]['x'], df[df['class'] == 0]['y'], \n",
    "            c='gray', s=1, label='Класс 0')\n",
    "plt.scatter(df[df['class'] == 1]['x'], df[df['class'] == 1]['y'], \n",
    "            c='red', s=10, label='Класс 1')\n",
    "plt.xlabel('X координата')\n",
    "plt.ylabel('Y координата')\n",
    "plt.title('Визуализация пикселей по классам')\n",
    "plt.gca().invert_yaxis()\n",
    "plt.show()"
   ]
  },
  {
   "cell_type": "code",
   "execution_count": null,
   "id": "570d5a5f",
   "metadata": {},
   "outputs": [],
   "source": [
    "X = df[['x', 'y', 'R', 'G', 'B', 'brightness']]\n",
    "y = df['class']\n",
    "X_train, X_test, y_train, y_test = train_test_split(X, y, test_size=0.2, \n",
    "                                                    random_state=88, stratify=y)"
   ]
  },
  {
   "cell_type": "code",
   "execution_count": null,
   "id": "1d2e9a32",
   "metadata": {},
   "outputs": [],
   "source": [
    "print(\"Распределение классов в тренировочной выборке:\")\n",
    "print(y_train.value_counts(normalize=True))\n",
    "print(\"Распределение классов в тестовой выборке:\")\n",
    "print(y_test.value_counts(normalize=True))"
   ]
  },
  {
   "cell_type": "code",
   "execution_count": null,
   "id": "cd83bab4",
   "metadata": {},
   "outputs": [],
   "source": [
    "scaler = StandardScaler()\n",
    "X_train = scaler.fit_transform(X_train)\n",
    "X_test = scaler.fit_transform(X_test)"
   ]
  },
  {
   "cell_type": "markdown",
   "id": "8c5ea40d",
   "metadata": {},
   "source": [
    "### Построение моделей и оценка качества"
   ]
  },
  {
   "cell_type": "code",
   "execution_count": null,
   "id": "7fd85740",
   "metadata": {},
   "outputs": [],
   "source": [
    "# Логистическая регрессия с GridSearch\n",
    "param_grid = {\n",
    "    'C': [0.1, 1, 10, 100],\n",
    "    'solver': ['liblinear', 'saga'],\n",
    "    'max_iter': [100, 200, 300],\n",
    "}\n",
    "log_reg = LogisticRegression(class_weight='balanced', random_state=88)\n",
    "grid_search = GridSearchCV(estimator=log_reg, param_grid=param_grid, \n",
    "                           cv=5, scoring='accuracy', verbose=3)\n",
    "grid_search.fit(X_train, y_train)\n",
    "print(\"Лучшие гиперпараметры: \", grid_search.best_params_)\n",
    "log_reg = LogisticRegression(C=0.1, max_iter=200, solver='saga', \n",
    "                             class_weight='balanced', random_state=88)\n",
    "start_time = time.time()\n",
    "log_reg.fit(X_train, y_train)\n",
    "training_time = time.time() - start_time\n",
    "start_time = time.time()\n",
    "y_pred_log_reg = log_reg.predict(X_test)\n",
    "prediction_time = time.time() - start_time\n",
    "accuracy_log_reg = accuracy_score(y_test, y_pred_log_reg)\n",
    "roc_auc_log_reg = roc_auc_score(y_test, log_reg.predict_proba(X_test)[:, 1])\n",
    "print(f\"Accuracy (Logistic Regression): {accuracy_log_reg}\")\n",
    "print(f\"ROC AUC (Logistic Regression): {roc_auc_log_reg}\")\n",
    "print(f\"Training Time: {training_time:.4f}\")\n",
    "print(f\"Prediction Time: {prediction_time:.4f}\")\n",
    "print(\"Classification Report:\")\n",
    "print(classification_report(y_test, y_pred_log_reg))\n",
    "conf_matrix_log_reg = confusion_matrix(y_test, y_pred_log_reg)\n",
    "plt.figure(figsize=(8, 6))\n",
    "sns.heatmap(\n",
    "    conf_matrix_log_reg, \n",
    "    annot=True, \n",
    "    fmt='d', \n",
    "    cmap='Blues', \n",
    "    xticklabels=['Class 0', 'Class 1'], \n",
    "    yticklabels=['Class 0', 'Class 1']\n",
    ")\n",
    "plt.title('Confusion Matrix Logistic Regression')\n",
    "plt.xlabel('Predicted Labels')\n",
    "plt.ylabel('True Labels')\n",
    "plt.show()"
   ]
  },
  {
   "cell_type": "code",
   "execution_count": null,
   "id": "a6244f4b",
   "metadata": {},
   "outputs": [],
   "source": [
    "X_train_df = pd.DataFrame(X_train, columns=['x', 'y', 'R', 'G', 'B', 'brightness'])\n",
    "y_train_df = pd.DataFrame(y_train, columns=['class'])\n",
    "X_train_df.reset_index(drop=True, inplace=True)\n",
    "y_train_df.reset_index(drop=True, inplace=True)\n",
    "train_df = pd.concat([X_train_df, y_train_df], axis=1)\n",
    "X_test_df = pd.DataFrame(X_test, columns=['x', 'y', 'R', 'G', 'B', 'brightness'])\n",
    "y_test_df = pd.DataFrame(y_pred_log_reg, columns=['class'])\n",
    "X_test_df.reset_index(drop=True, inplace=True)\n",
    "y_test_df.reset_index(drop=True, inplace=True)\n",
    "test_df = pd.concat([X_test_df, y_test_df], axis=1)"
   ]
  },
  {
   "cell_type": "code",
   "execution_count": null,
   "id": "20b02c02",
   "metadata": {},
   "outputs": [],
   "source": [
    "plt.figure(figsize=(18, 12))\n",
    "plt.scatter(train_df['x'], train_df['y'], c='gray', \n",
    "            s=0.01, label='Класс 0 (тренировочные данные) СЕРЫЙ')  \n",
    "plt.scatter(train_df[train_df['class'] == 1]['x'], train_df[train_df['class'] == 1]['y'], \n",
    "            c='black', s=0.01, label='Класс 1 (тренировочные данные) КРАСНЫЙ')  \n",
    "plt.scatter(test_df['x'], test_df['y'], c='blue', \n",
    "            s=0.01, label='Класс 0 (предсказание на тест) СИНИЙ')\n",
    "plt.scatter(test_df[test_df['class'] == 1]['x'], test_df[test_df['class'] == 1]['y'], \n",
    "            c='red', s=0.05, label='Класс 1 (предсказание на тест) ЧЕРНЫЙ')\n",
    "plt.title('Визуализация пикселей с выделением классов')\n",
    "plt.xlabel('x (стандартизованные)')\n",
    "plt.ylabel('y (стандартизованные)')\n",
    "plt.gca().invert_yaxis()\n",
    "plt.legend(loc='upper right')\n",
    "plt.show()"
   ]
  },
  {
   "cell_type": "code",
   "execution_count": null,
   "id": "09a3e0c8",
   "metadata": {},
   "outputs": [],
   "source": [
    "# Метод опорных векторов с RandomizedSearchCV\n",
    "param_dist = {\n",
    "    'C': uniform(loc=0.1, scale=100),\n",
    "    'gamma': ['scale', 'auto', 0.1, 1, 10], \n",
    "    'kernel': ['rbf', 'poly', 'sigmoid'],\n",
    "    'degree': [2, 3, 4],\n",
    "    'coef0': [0.0, 0.5, 1.0], \n",
    "    'max_iter': [100, 1000, 5000],\n",
    "}\n",
    "svm = SVC(random_state=88)\n",
    "random_search = RandomizedSearchCV(\n",
    "    estimator=svm,\n",
    "    param_distributions=param_dist,\n",
    "    n_iter=50,\n",
    "    cv=3,\n",
    "    scoring='accuracy',\n",
    "    verbose=3,\n",
    "    random_state=88\n",
    ")\n",
    "random_search.fit(X_train, y_train)\n",
    "print(\"Лучшие гиперпараметры: \", random_search.best_params_)"
   ]
  },
  {
   "cell_type": "code",
   "execution_count": null,
   "id": "d11c78d7",
   "metadata": {},
   "outputs": [],
   "source": [
    "best_params = {\n",
    "    'C': 85.09869730830853,\n",
    "    'coef0': 0.0,\n",
    "    'degree': 2,\n",
    "    'gamma': 10,\n",
    "    'kernel': 'rbf',\n",
    "    'max_iter': 5000\n",
    "}\n",
    "best_svm = SVC(\n",
    "    C=best_params['C'],\n",
    "    coef0=best_params['coef0'],\n",
    "    degree=best_params['degree'],\n",
    "    gamma=best_params['gamma'],\n",
    "    kernel=best_params['kernel'],\n",
    "    max_iter=best_params['max_iter'],\n",
    "    random_state=88,\n",
    "    class_weight='balanced'\n",
    ")\n",
    "start_train = time.time()\n",
    "best_svm.fit(X_train, y_train)\n",
    "end_train = time.time()\n",
    "start_pred = time.time()\n",
    "y_pred_svm = best_svm.predict(X_test)\n",
    "decision_scores = best_svm.decision_function(X_test)\n",
    "end_pred = time.time()\n",
    "train_time = end_train - start_train\n",
    "pred_time = end_pred - start_pred\n",
    "print(f\"Training Time: {train_time:.4f}\")\n",
    "print(f\"Prediction Time: {pred_time:.4f}\")\n",
    "accuracy_svm = accuracy_score(y_test, y_pred_svm)\n",
    "print(f\"Accuracy SVM: {accuracy_svm}\")\n",
    "roc_auc_svm = roc_auc_score(y_test, decision_scores)\n",
    "print(f\"ROC AUC SVM: {roc_auc_svm}\")\n",
    "print(\"Classification Report:\")\n",
    "print(classification_report(y_test, y_pred_svm))\n",
    "conf_matrix = confusion_matrix(y_test, y_pred_svm)\n",
    "plt.figure(figsize=(8, 6))\n",
    "sns.heatmap(conf_matrix, annot=True, fmt='d', cmap='Blues', \n",
    "            xticklabels=['Class 0', 'Class 1'], yticklabels=['Class 0', 'Class 1'])\n",
    "plt.title('Confusion Matrix SVM')\n",
    "plt.xlabel('Predicted Labels')\n",
    "plt.ylabel('True Labels')\n",
    "plt.show()\n",
    "# код для визуализации пикселей аналогичен коду выше "
   ]
  },
  {
   "cell_type": "code",
   "execution_count": null,
   "id": "f9b742e9",
   "metadata": {},
   "outputs": [],
   "source": [
    "# Метод k-ближайших соседей\n",
    "knn = KNeighborsClassifier()\n",
    "param_grid = {\n",
    "    'n_neighbors': [3, 5, 7, 9, 11],        \n",
    "    'weights': ['uniform', 'distance'],    \n",
    "    'metric': ['euclidean', 'manhattan'],\n",
    "}\n",
    "grid_search = GridSearchCV(estimator=knn, param_grid=param_grid, cv=5, \n",
    "                           verbose=3, scoring='accuracy')\n",
    "grid_search.fit(X_train, y_train)\n",
    "print(f\"Лучшие параметры: {grid_search.best_params_}\")"
   ]
  },
  {
   "cell_type": "code",
   "execution_count": null,
   "id": "63d9e844",
   "metadata": {},
   "outputs": [],
   "source": [
    "best_params = {'metric': 'manhattan', 'n_neighbors': 5, 'weights': 'distance'}\n",
    "knn_best = KNeighborsClassifier(\n",
    "    n_neighbors=best_params['n_neighbors'],\n",
    "    weights=best_params['weights'],\n",
    "    metric=best_params['metric']\n",
    ")\n",
    "start_time = time.time()\n",
    "knn_best.fit(X_train, y_train)\n",
    "train_time = time.time() - start_time\n",
    "start_time = time.time()\n",
    "y_pred_knn = knn_best.predict(X_test)\n",
    "predict_time = time.time() - start_time\n",
    "print(f\"Training Time: {train_time}\")\n",
    "print(f\"Prediction Time: {predict_time}\")\n",
    "accuracy_knn = accuracy_score(y_test, y_pred_knn)\n",
    "roc_auc_knn = roc_auc_score(y_test, knn_best.predict_proba(X_test)[:, 1])\n",
    "print(f\"KNN Accuracy: {accuracy_knn}\")\n",
    "print(f\"KNN ROC-AUC: {roc_auc_knn}\")\n",
    "print(\"Classification Report for KNN:\")\n",
    "print(classification_report(y_test, y_pred_knn))\n",
    "conf_matrix_knn = confusion_matrix(y_test, y_pred_knn)\n",
    "plt.figure(figsize=(8, 6))\n",
    "sns.heatmap(\n",
    "    conf_matrix_knn, \n",
    "    annot=True, \n",
    "    fmt='d', \n",
    "    cmap='Blues', \n",
    "    xticklabels=['Class 0', 'Class 1'], \n",
    "    yticklabels=['Class 0', 'Class 1']\n",
    ")\n",
    "plt.title('Confusion Matrix KNN')\n",
    "plt.xlabel('Predicted Labels')\n",
    "plt.ylabel('True Labels')\n",
    "plt.show()"
   ]
  },
  {
   "cell_type": "markdown",
   "id": "62022ee6",
   "metadata": {},
   "source": [
    "### Подведение итогов"
   ]
  },
  {
   "cell_type": "code",
   "execution_count": null,
   "id": "d296e89d",
   "metadata": {},
   "outputs": [],
   "source": [
    "# оценка важности факторов\n",
    "X_test_sample = shap.sample(X_test, 1000)\n",
    "explainer = shap.KernelExplainer(knn.predict, X_test_sample)\n",
    "shap_values = explainer.shap_values(X_test_sample)\n",
    "shap.summary_plot(shap_values, X_test_sample, feature_names=X.columns.tolist())"
   ]
  },
  {
   "cell_type": "code",
   "execution_count": null,
   "id": "0f44d6c4",
   "metadata": {},
   "outputs": [],
   "source": [
    "df_1 = pd.read_csv('road_pixels_with_brightness1.csv')\n",
    "df_2 = pd.read_csv('road_pixels_with_brightness2.csv')\n",
    "X_train = df_1[['x', 'y', 'R', 'G', 'B', 'brightness']]  \n",
    "y_train = df_1['class']\n",
    "X_test = df_2[['x', 'y', 'R', 'G', 'B', 'brightness']]  \n",
    "y_test = df_2['class']  "
   ]
  },
  {
   "cell_type": "code",
   "execution_count": null,
   "id": "e13caad3",
   "metadata": {},
   "outputs": [],
   "source": [
    "# оптимизация гиперпараметров аналогична тому, что выше\n",
    "best_params = {'metric': 'manhattan', 'n_neighbors': 11, 'weights': 'uniform'}\n",
    "knn = KNeighborsClassifier(\n",
    "    n_neighbors=best_params['n_neighbors'],\n",
    "    weights=best_params['weights'],\n",
    "    metric=best_params['metric']\n",
    ")\n",
    "start_time = time.time()\n",
    "knn.fit(X_train, y_train)\n",
    "train_time = time.time() - start_time\n",
    "print(f\"Training Time: {train_time:.4f}\")\n",
    "start_time = time.time()\n",
    "y_pred = knn.predict(X_test)\n",
    "predict_time = time.time() - start_time\n",
    "print(f\"Prediction Time: {predict_time:.4f}\")\n",
    "accuracy = accuracy_score(y_test, y_pred)\n",
    "print(f\"Точность модели: {accuracy}\")\n",
    "y_prob = knn.predict_proba(X_test)[:, 1]\n",
    "roc_auc = roc_auc_score(y_test, y_prob)\n",
    "print(f\"ROC AUC: {roc_auc}\")\n",
    "print(\"Отчет классификации:\")\n",
    "print(classification_report(y_test, y_pred))\n",
    "conf_matrix = confusion_matrix(y_test, y_pred)\n",
    "plt.figure(figsize=(8, 6))\n",
    "sns.heatmap(conf_matrix, annot=True, fmt=\"d\", cmap=\"Blues\", \n",
    "            xticklabels=['Class 0', 'Class 1'], yticklabels=['Class 0', 'Class 1'])\n",
    "plt.xlabel('Предсказанный класс')\n",
    "plt.ylabel('Истинный класс')\n",
    "plt.title('Матрица ошибок')\n",
    "plt.show()"
   ]
  },
  {
   "cell_type": "code",
   "execution_count": null,
   "id": "77bcd0c1",
   "metadata": {},
   "outputs": [],
   "source": [
    "plt.figure(figsize=(18, 12))\n",
    "plt.scatter(test_df['x'], test_df['y'], c='blue', s=0.01, \n",
    "            label='Класс 0 (предсказанные на тест) СИНИЙ')\n",
    "plt.scatter(test_df[test_df['class'] == 1]['x'], test_df[test_df['class'] == 1]['y'], \n",
    "            c='red', s=0.05, label='Класс 1 (предсказанные на тест) КРАСНЫЙ')\n",
    "plt.xlabel('x (стандартизованные)')\n",
    "plt.ylabel('y (стандартизованные)')\n",
    "plt.gca().invert_yaxis()\n",
    "plt.legend(loc='upper right')\n",
    "plt.show()"
   ]
  }
 ],
 "metadata": {
  "kernelspec": {
   "display_name": "Python 3 (ipykernel)",
   "language": "python",
   "name": "python3"
  },
  "language_info": {
   "codemirror_mode": {
    "name": "ipython",
    "version": 3
   },
   "file_extension": ".py",
   "mimetype": "text/x-python",
   "name": "python",
   "nbconvert_exporter": "python",
   "pygments_lexer": "ipython3",
   "version": "3.9.13"
  }
 },
 "nbformat": 4,
 "nbformat_minor": 5
}
